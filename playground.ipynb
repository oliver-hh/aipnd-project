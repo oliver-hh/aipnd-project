{
 "cells": [
  {
   "cell_type": "code",
   "execution_count": 2,
   "id": "92ca88db-4fb2-434a-bb52-58e345e14b28",
   "metadata": {},
   "outputs": [
    {
     "name": "stdout",
     "output_type": "stream",
     "text": [
      "PyTorch Version 2.2.0\n"
     ]
    }
   ],
   "source": [
    "import torch\n",
    "from torch import nn\n",
    "from torch import optim\n",
    "from torchvision import datasets, transforms, models\n",
    "\n",
    "print(f\"PyTorch Version {torch.__version__}\")"
   ]
  },
  {
   "cell_type": "code",
   "execution_count": null,
   "id": "da537b76-374d-43fe-b1af-9cf1414444c2",
   "metadata": {},
   "outputs": [],
   "source": [
    "device = 'cpu'\n",
    "correct = 0\n",
    "total = 0\n",
    "model = model.to(device)\n",
    "model.eval()\n",
    "\n",
    "valid_loader = data_loaders['valid']\n",
    "with torch.no_grad():\n",
    "    for valid_images, valid_labels in valid_loader:\n",
    "        valid_images, valid_labels = valid_images.to(device), valid_labels.to(device)\n",
    "        valid_outputs = model(valid_images)\n",
    "        _, predicted = torch.max(valid_outputs.data, 1)\n",
    "        total += valid_labels.size(0)\n",
    "        correct += (predicted == valid_labels).sum().item()\n",
    "print(f'Accuracy of the network: {correct / total:.3f}')"
   ]
  },
  {
   "cell_type": "code",
   "execution_count": null,
   "id": "f4439081-95b8-4a08-ac1e-3350a9ff3e91",
   "metadata": {},
   "outputs": [],
   "source": [
    "# TODO: Do validation on the test set\n",
    "\n",
    "# Use first cuda device if available, else cpu\n",
    "device = torch.device(\"cuda:0\" if torch.cuda.is_available() else \"cpu\")  \n",
    "\n",
    "# Initialize variables, assign model to device and set it to evaluation mode\n",
    "correct = 0\n",
    "total = 0\n",
    "model = model.to(device)\n",
    "model.eval()\n",
    "\n",
    "# Get validation data loader\n",
    "valid_loader = data_loaders['valid']\n",
    "# Disable gradient computations, which are not needed during model evaluation\n",
    "with torch.no_grad():\n",
    "    # Iterate over all validation images that haven't been used to train or test the network yet.\n",
    "    for valid_images, valid_labels in valid_loader:\n",
    "        valid_images, valid_labels = valid_images.to(device), valid_labels.to(device)\n",
    "        valid_outputs = model(valid_images)\n",
    "\n",
    "        # Get class with highest propabilities, compare it with the labels and count correct matches \n",
    "        top_k, top_class = torch.topk(valid_outputs.data, 1) \n",
    "        total += valid_labels.size(0)\n",
    "        correct += (top_class == valid_labels).sum().item()\n",
    "        \n",
    "print(f'Accuracy of the network: {correct / total:.3f}')"
   ]
  },
  {
   "cell_type": "code",
   "execution_count": null,
   "id": "0da87b26-81dc-482c-b013-c21e4c63193c",
   "metadata": {},
   "outputs": [],
   "source": [
    "checkpoint = {  \n",
    "    'state_dict': model.state_dict(),  \n",
    "    'optimizer_dict': optimizer.state_dict(),  \n",
    "    'class_to_idx': train_data.class_to_idx,  \n",
    "}  \n",
    "  \n",
    "torch.save(checkpoint, 'checkpoint.pth') "
   ]
  },
  {
   "cell_type": "code",
   "execution_count": null,
   "id": "eb199918-5bab-4a66-a84c-6f09cf4810f9",
   "metadata": {},
   "outputs": [],
   "source": [
    "checkpoint = torch.load('checkpoint.pth')  \n",
    "  \n",
    "model = models.densenet121(pretrained=True)  # Initialize the model first  \n",
    "model.load_state_dict(checkpoint['state_dict'])  # Load the state dict  \n",
    "  \n",
    "# Load other items  \n",
    "optimizer.load_state_dict(checkpoint['optimizer_dict'])  \n",
    "model.class_to_idx = checkpoint['class_to_idx']  \n"
   ]
  }
 ],
 "metadata": {
  "kernelspec": {
   "display_name": "aiprog",
   "language": "python",
   "name": "aiprog"
  },
  "language_info": {
   "codemirror_mode": {
    "name": "ipython",
    "version": 3
   },
   "file_extension": ".py",
   "mimetype": "text/x-python",
   "name": "python",
   "nbconvert_exporter": "python",
   "pygments_lexer": "ipython3",
   "version": "3.11.7"
  }
 },
 "nbformat": 4,
 "nbformat_minor": 5
}
