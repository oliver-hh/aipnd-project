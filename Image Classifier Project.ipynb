{
 "cells": [
  {
   "cell_type": "markdown",
   "metadata": {},
   "source": [
    "# Developing an AI application\n",
    "\n",
    "Going forward, AI algorithms will be incorporated into more and more everyday applications. For example, you might want to include an image classifier in a smart phone app. To do this, you'd use a deep learning model trained on hundreds of thousands of images as part of the overall application architecture. A large part of software development in the future will be using these types of models as common parts of applications. \n",
    "\n",
    "In this project, you'll train an image classifier to recognize different species of flowers. You can imagine using something like this in a phone app that tells you the name of the flower your camera is looking at. In practice you'd train this classifier, then export it for use in your application. We'll be using [this dataset](http://www.robots.ox.ac.uk/~vgg/data/flowers/102/index.html) of 102 flower categories, you can see a few examples below. \n",
    "\n",
    "<img src='assets/Flowers.png' width=500px>\n",
    "\n",
    "The project is broken down into multiple steps:\n",
    "\n",
    "* Load and preprocess the image dataset\n",
    "* Train the image classifier on your dataset\n",
    "* Use the trained classifier to predict image content\n",
    "\n",
    "We'll lead you through each part which you'll implement in Python.\n",
    "\n",
    "When you've completed this project, you'll have an application that can be trained on any set of labeled images. Here your network will be learning about flowers and end up as a command line application. But, what you do with your new skills depends on your imagination and effort in building a dataset. For example, imagine an app where you take a picture of a car, it tells you what the make and model is, then looks up information about it. Go build your own dataset and make something new.\n",
    "\n",
    "First up is importing the packages you'll need. It's good practice to keep all the imports at the beginning of your code. As you work through this notebook and find you need to import a package, make sure to add the import up here."
   ]
  },
  {
   "cell_type": "code",
   "execution_count": 37,
   "metadata": {},
   "outputs": [],
   "source": [
    "# Imports here\n",
    "\n",
    "#######################################################\n",
    "# Common Modules\n",
    "#######################################################\n",
    "\n",
    "# Time measurement\n",
    "import time\n",
    "# JSON library\n",
    "import json\n",
    "# Dictionary that keeps its named entries sorted as they are initially inserted\n",
    "from collections import OrderedDict\n",
    "\n",
    "#######################################################\n",
    "# PyTorch\n",
    "#######################################################\n",
    "import torch\n",
    "# Neural networks (classes to define and manipulate neural networks\n",
    "from torch import nn\n",
    "# Optimization algorithms to train and improve neural networks\n",
    "from torch import optim\n",
    "# Abstracts the complexity of data loading in parallel\n",
    "from torch.utils.data import DataLoader  \n",
    "# Datasets, model architectures, and common image transformations for computer vision.\n",
    "from torchvision import (\n",
    "    datasets,             # Standard datasets for training and testing models\n",
    "    transforms,           # Common image transformations (resizing, cropping, rotation, etc.)\n",
    "    models                # Pre-trained models and architectures (AlexNet, VGG, ResNet etc.)\n",
    ")"
   ]
  },
  {
   "cell_type": "markdown",
   "metadata": {},
   "source": [
    "## Global Settings"
   ]
  },
  {
   "cell_type": "code",
   "execution_count": 47,
   "metadata": {},
   "outputs": [],
   "source": [
    "# Common\n",
    "DEBUG = False\n",
    "CUDA_ONLY = True # If Cuda-support is available, ignore CPU\n",
    "\n",
    "# Training\n",
    "EPOCHS = 5\n",
    "LEARNING_RATE = 0.001\n",
    "DROPOUT_RATE = 0.2"
   ]
  },
  {
   "cell_type": "markdown",
   "metadata": {},
   "source": [
    "## Load the data\n",
    "\n",
    "Here you'll use `torchvision` to load the data ([documentation](http://pytorch.org/docs/0.3.0/torchvision/index.html)). The data should be included alongside this notebook, otherwise you can [download it here](https://s3.amazonaws.com/content.udacity-data.com/nd089/flower_data.tar.gz). The dataset is split into three parts, training, validation, and testing. For the training, you'll want to apply transformations such as random scaling, cropping, and flipping. This will help the network generalize leading to better performance. You'll also need to make sure the input data is resized to 224x224 pixels as required by the pre-trained networks.\n",
    "\n",
    "The validation and testing sets are used to measure the model's performance on data it hasn't seen yet. For this you don't want any scaling or rotation transformations, but you'll need to resize then crop the images to the appropriate size.\n",
    "\n",
    "The pre-trained networks you'll use were trained on the ImageNet dataset where each color channel was normalized separately. For all three sets you'll need to normalize the means and standard deviations of the images to what the network expects. For the means, it's `[0.485, 0.456, 0.406]` and for the standard deviations `[0.229, 0.224, 0.225]`, calculated from the ImageNet images.  These values will shift each color channel to be centered at 0 and range from -1 to 1.\n",
    " "
   ]
  },
  {
   "cell_type": "code",
   "execution_count": 39,
   "metadata": {},
   "outputs": [],
   "source": [
    "data_dir = 'flowers'\n",
    "train_dir = data_dir + '/train'\n",
    "valid_dir = data_dir + '/valid'\n",
    "test_dir = data_dir + '/test'"
   ]
  },
  {
   "cell_type": "code",
   "execution_count": 48,
   "metadata": {},
   "outputs": [],
   "source": [
    "# DONE: Define your transforms for the training, validation, and testing sets\n",
    "random_rotation = 30\n",
    "image_size = 224\n",
    "means_per_channel = [0.485, 0.456, 0.406]\n",
    "stddevs_per_channel = [0.229, 0.224, 0.225]\n",
    "\n",
    "data_transforms = {\n",
    "    'train':    transforms.Compose([\n",
    "                    transforms.RandomRotation(random_rotation),\n",
    "                    transforms.RandomResizedCrop(image_size),\n",
    "                    transforms.RandomHorizontalFlip(),\n",
    "                    transforms.ToTensor(),\n",
    "                    transforms.Normalize(means_per_channel, stddevs_per_channel),\n",
    "                ]),\n",
    "    'valid':    transforms.Compose([\n",
    "                    transforms.Resize(image_size + 30),\n",
    "                    transforms.CenterCrop(image_size),\n",
    "                    transforms.ToTensor(),\n",
    "                    transforms.Normalize(means_per_channel, stddevs_per_channel),\n",
    "                ]),\n",
    "    'test':     transforms.Compose([\n",
    "                    transforms.Resize(image_size + 30),\n",
    "                    transforms.CenterCrop(image_size),\n",
    "                    transforms.ToTensor(),\n",
    "                    transforms.Normalize(means_per_channel, stddevs_per_channel),\n",
    "                ])\n",
    "}\n",
    "\n",
    "# DONE: Load the datasets with ImageFolder\n",
    "image_datasets = {\n",
    "    'train': datasets.ImageFolder(train_dir, transform=data_transforms['train']),\n",
    "    'valid': datasets.ImageFolder(valid_dir, transform=data_transforms['valid']),\n",
    "    'test':  datasets.ImageFolder(test_dir,  transform=data_transforms['test'])\n",
    "} \n",
    "\n",
    "# DONE: Using the image datasets and the trainforms, define the dataloaders\n",
    "data_loaders =  {\n",
    "    'train': DataLoader(image_datasets['train'], batch_size=64, shuffle=True),\n",
    "    'valid': DataLoader(image_datasets['valid'], batch_size=64),\n",
    "    'test':  DataLoader(image_datasets['test'],  batch_size=64)\n",
    "} "
   ]
  },
  {
   "cell_type": "markdown",
   "metadata": {},
   "source": [
    "### Label mapping\n",
    "\n",
    "You'll also need to load in a mapping from category label to category name. You can find this in the file `cat_to_name.json`. It's a JSON object which you can read in with the [`json` module](https://docs.python.org/2/library/json.html). This will give you a dictionary mapping the integer encoded categories to the actual names of the flowers."
   ]
  },
  {
   "cell_type": "code",
   "execution_count": 49,
   "metadata": {},
   "outputs": [],
   "source": [
    "with open('cat_to_name.json', 'r') as f:\n",
    "    cat_to_name = json.load(f)\n",
    "    \n",
    "print(json.dumps(cat_to_name, indent=4)) if DEBUG else None"
   ]
  },
  {
   "cell_type": "markdown",
   "metadata": {},
   "source": [
    "# Building and training the classifier\n",
    "\n",
    "Now that the data is ready, it's time to build and train the classifier. As usual, you should use one of the pretrained models from `torchvision.models` to get the image features. Build and train a new feed-forward classifier using those features.\n",
    "\n",
    "We're going to leave this part up to you. Refer to [the rubric](https://review.udacity.com/#!/rubrics/1663/view) for guidance on successfully completing this section. Things you'll need to do:\n",
    "\n",
    "* Load a [pre-trained network](http://pytorch.org/docs/master/torchvision/models.html) (If you need a starting point, the VGG networks work great and are straightforward to use)\n",
    "* Define a new, untrained feed-forward network as a classifier, using ReLU activations and dropout\n",
    "* Train the classifier layers using backpropagation using the pre-trained network to get the features\n",
    "* Track the loss and accuracy on the validation set to determine the best hyperparameters\n",
    "\n",
    "We've left a cell open for you below, but use as many as you need. Our advice is to break the problem up into smaller parts you can run separately. Check that each part is doing what you expect, then move on to the next. You'll likely find that as you work through each part, you'll need to go back and modify your previous code. This is totally normal!\n",
    "\n",
    "When training make sure you're updating only the weights of the feed-forward network. You should be able to get the validation accuracy above 70% if you build everything right. Make sure to try different hyperparameters (learning rate, units in the classifier, epochs, etc) to find the best model. Save those hyperparameters to use as default values in the next part of the project.\n",
    "\n",
    "One last important tip if you're using the workspace to run your code: To avoid having your workspace disconnect during the long-running tasks in this notebook, please read in the earlier page in this lesson called Intro to\n",
    "GPU Workspaces about Keeping Your Session Active. You'll want to include code from the workspace_utils.py module.\n",
    "\n",
    "**Note for Workspace users:** If your network is over 1 GB when saved as a checkpoint, there might be issues with saving backups in your workspace. Typically this happens with wide dense layers after the convolutional layers. If your saved checkpoint is larger than 1 GB (you can open a terminal and check with `ls -lh`), you should reduce the size of your hidden layers and train again."
   ]
  },
  {
   "cell_type": "code",
   "execution_count": 50,
   "metadata": {},
   "outputs": [],
   "source": [
    "# DONE: Build and train your network\n",
    "\n",
    "# DONE 1: Create and adjust a pretrained network to the current classification\n",
    "# DONE 2: Define a function to train the network\n",
    "# DONE 3: Train the network for each device"
   ]
  },
  {
   "cell_type": "code",
   "execution_count": 51,
   "metadata": {},
   "outputs": [],
   "source": [
    "# DONE 1: Create and adjust a pretrained network to the current classification\n",
    "\n",
    "# Get an instance of a pretrained model. e.g. VGG16, ResNet50, DenseNet121, etc.)\n",
    "model = models.densenet121(weights=models.DenseNet121_Weights.DEFAULT)\n",
    "print(model) if DEBUG else None\n",
    "\n",
    "# Determine layer-sizes of the neural network\n",
    "inputs_size = model.classifier.in_features\n",
    "output_size = len(cat_to_name) \n",
    "hl1_size = inputs_size // 2 # 512\n",
    "hl2_size = inputs_size // 4 # 256\n",
    "\n",
    "# Freeze parameters to prevent backpropagation\n",
    "for param in model.parameters():\n",
    "    param.requires_grad = False\n",
    "\n",
    "# Customize the model to the current classification and\n",
    "# add dropout to prevent overfitting\n",
    "classifier = nn.Sequential(OrderedDict([\n",
    "    ('fc1', nn.Linear(inputs_size, hl1_size)),\n",
    "    ('relu1', nn.ReLU()),\n",
    "    ('dropout1', nn.Dropout(p = DROPOUT_RATE)),\n",
    "    ('fc2', nn.Linear(hl1_size, hl2_size)),\n",
    "    ('relu2', nn.ReLU()),\n",
    "    ('dropout2', nn.Dropout(p = DROPOUT_RATE)),\n",
    "    ('fc3', nn.Linear(hl2_size, output_size)),\n",
    "    ('output', nn.LogSoftmax(dim = 1))\n",
    "]))\n",
    "model.classifier = classifier"
   ]
  },
  {
   "cell_type": "code",
   "execution_count": 52,
   "metadata": {},
   "outputs": [],
   "source": [
    "# DONE 2: Define a function to train the network\n",
    "def train_network(model, criterion, optimizer, train_loader, test_loader, device='cpu'):\n",
    "    print(f'Start training for device {device}')\n",
    "\n",
    "    # Initialize variables\n",
    "    steps = 0\n",
    "    running_train_loss = 0\n",
    "    print_every = 10\n",
    "\n",
    "    # Set model to training mode\n",
    "    model.train()\n",
    "\n",
    "    # Start measurement\n",
    "    start_time = time.time()\n",
    "    \n",
    "    # Iterate over all epochs to train the network\n",
    "    for epoch in range(1, EPOCHS+1):\n",
    "        # Get inputs and labels of the current batch\n",
    "        train_loader = data_loaders['train']\n",
    "        for train_inputs, train_labels in train_loader:\n",
    "            steps += 1\n",
    "\n",
    "            # Move inputs and labels to device\n",
    "            train_inputs, train_labels = train_inputs.to(device), train_labels.to(device)\n",
    "\n",
    "            # Forward pass through the neural network and compute the loss of the model\n",
    "            train_log_outputs = model.forward(train_inputs)\n",
    "            train_loss = criterion(train_log_outputs, train_labels)\n",
    "\n",
    "            # Clear old gradients, backpropagate and update model parameters with computed gradient\n",
    "            optimizer.zero_grad()\n",
    "            train_loss.backward()\n",
    "            optimizer.step()\n",
    "\n",
    "            # Add current loss to the running loss            \n",
    "            running_train_loss += train_loss.item()\n",
    "            \n",
    "            # Test the network after n batches and calulate train loss and test loss/accuracy\n",
    "            if steps % print_every == 0:\n",
    "                # Initialize test loss and accuracy\n",
    "                running_test_loss = 0\n",
    "                accuracy = 0\n",
    "\n",
    "                # Set model to evaluation mode\n",
    "                model.eval()\n",
    "\n",
    "                # Determine train/test-loss and accuracy with test data withoud gradient\n",
    "                with torch.no_grad():\n",
    "                    # Perform the steps for test similar to training (see above)\n",
    "                    test_loader = data_loaders['test']\n",
    "                    for test_inputs, test_labels in test_loader:\n",
    "                        test_inputs, test_labels = test_inputs.to(device), test_labels.to(device)\n",
    "                        test_log_outputs = model.forward(test_inputs)\n",
    "                        test_loss = criterion(test_log_outputs, test_labels)\n",
    "                        running_test_loss += test_loss.item()\n",
    "\n",
    "                        # Calculate accuracy of the network so far\n",
    "                        test_output = torch.exp(test_log_outputs)\n",
    "                        top_k, top_class = test_output.topk(1, dim=1)\n",
    "                        equals = top_class == test_labels.view(*top_class.shape)\n",
    "                        accuracy += torch.mean(equals.type(torch.FloatTensor)).item()\n",
    "\n",
    "                # Output network metrics\n",
    "                print(f'Epoch {epoch}/{EPOCHS}.. '\n",
    "                      f'Train loss: {running_train_loss/print_every:.3f}.. '\n",
    "                      f'Test loss: {running_test_loss/len(test_loader):.3f}.. '\n",
    "                      f'Test accuracy: {accuracy/len(test_loader):.3f}.. '\n",
    "                      f'Time elapsed: {int(time.time()-start_time)}s')\n",
    "        \n",
    "                # Reset model to training mode and reset running_train_loss for next batch\n",
    "                model.train()\n",
    "                running_train_loss = 0\n",
    "\n",
    "    end_time = time.time()  \n",
    "    elapsed_time = int(end_time - start_time)  \n",
    "\n",
    "    print(f'End training for device {device}, duration={elapsed_time}s')\n"
   ]
  },
  {
   "cell_type": "code",
   "execution_count": 53,
   "metadata": {},
   "outputs": [
    {
     "name": "stdout",
     "output_type": "stream",
     "text": [
      "Training for device cpu starts\n",
      "Start training for device cpu\n",
      "Epoch 1/5.. Train loss: 4.563.. Test loss: 4.478.. Test accuracy: 0.047.. Time elapsed: 62s\n",
      "Epoch 1/5.. Train loss: 4.514.. Test loss: 4.380.. Test accuracy: 0.069.. Time elapsed: 128s\n",
      "Epoch 1/5.. Train loss: 4.325.. Test loss: 4.159.. Test accuracy: 0.107.. Time elapsed: 194s\n",
      "Epoch 1/5.. Train loss: 4.130.. Test loss: 3.918.. Test accuracy: 0.152.. Time elapsed: 257s\n",
      "Epoch 1/5.. Train loss: 3.877.. Test loss: 3.606.. Test accuracy: 0.191.. Time elapsed: 322s\n",
      "Epoch 1/5.. Train loss: 3.710.. Test loss: 3.281.. Test accuracy: 0.276.. Time elapsed: 387s\n",
      "Epoch 1/5.. Train loss: 3.356.. Test loss: 2.978.. Test accuracy: 0.292.. Time elapsed: 453s\n",
      "Epoch 1/5.. Train loss: 3.176.. Test loss: 2.679.. Test accuracy: 0.361.. Time elapsed: 519s\n",
      "Epoch 1/5.. Train loss: 2.847.. Test loss: 2.326.. Test accuracy: 0.413.. Time elapsed: 584s\n",
      "Epoch 1/5.. Train loss: 2.600.. Test loss: 2.046.. Test accuracy: 0.496.. Time elapsed: 649s\n",
      "Epoch 2/5.. Train loss: 2.399.. Test loss: 2.039.. Test accuracy: 0.477.. Time elapsed: 713s\n",
      "Epoch 2/5.. Train loss: 2.335.. Test loss: 1.767.. Test accuracy: 0.551.. Time elapsed: 780s\n",
      "Epoch 2/5.. Train loss: 2.094.. Test loss: 1.676.. Test accuracy: 0.583.. Time elapsed: 847s\n",
      "Epoch 2/5.. Train loss: 2.004.. Test loss: 1.521.. Test accuracy: 0.590.. Time elapsed: 916s\n",
      "Epoch 2/5.. Train loss: 1.843.. Test loss: 1.364.. Test accuracy: 0.643.. Time elapsed: 986s\n",
      "Epoch 2/5.. Train loss: 1.770.. Test loss: 1.370.. Test accuracy: 0.631.. Time elapsed: 1055s\n",
      "Epoch 2/5.. Train loss: 1.796.. Test loss: 1.263.. Test accuracy: 0.677.. Time elapsed: 1123s\n",
      "Epoch 2/5.. Train loss: 1.649.. Test loss: 1.251.. Test accuracy: 0.667.. Time elapsed: 1190s\n",
      "Epoch 2/5.. Train loss: 1.661.. Test loss: 1.142.. Test accuracy: 0.708.. Time elapsed: 1256s\n",
      "Epoch 2/5.. Train loss: 1.647.. Test loss: 1.050.. Test accuracy: 0.724.. Time elapsed: 1323s\n",
      "Epoch 3/5.. Train loss: 1.392.. Test loss: 1.026.. Test accuracy: 0.747.. Time elapsed: 1386s\n",
      "Epoch 3/5.. Train loss: 1.356.. Test loss: 0.984.. Test accuracy: 0.728.. Time elapsed: 1452s\n",
      "Epoch 3/5.. Train loss: 1.420.. Test loss: 0.885.. Test accuracy: 0.772.. Time elapsed: 1517s\n",
      "Epoch 3/5.. Train loss: 1.286.. Test loss: 0.829.. Test accuracy: 0.793.. Time elapsed: 1583s\n",
      "Epoch 3/5.. Train loss: 1.275.. Test loss: 0.921.. Test accuracy: 0.750.. Time elapsed: 1649s\n",
      "Epoch 3/5.. Train loss: 1.371.. Test loss: 0.882.. Test accuracy: 0.765.. Time elapsed: 1718s\n",
      "Epoch 3/5.. Train loss: 1.334.. Test loss: 0.755.. Test accuracy: 0.801.. Time elapsed: 1784s\n",
      "Epoch 3/5.. Train loss: 1.186.. Test loss: 0.766.. Test accuracy: 0.808.. Time elapsed: 1852s\n",
      "Epoch 3/5.. Train loss: 1.159.. Test loss: 0.741.. Test accuracy: 0.794.. Time elapsed: 1918s\n",
      "Epoch 3/5.. Train loss: 1.130.. Test loss: 0.690.. Test accuracy: 0.813.. Time elapsed: 1986s\n",
      "Epoch 4/5.. Train loss: 1.243.. Test loss: 0.683.. Test accuracy: 0.817.. Time elapsed: 2051s\n",
      "Epoch 4/5.. Train loss: 1.067.. Test loss: 0.690.. Test accuracy: 0.818.. Time elapsed: 2119s\n",
      "Epoch 4/5.. Train loss: 1.054.. Test loss: 0.687.. Test accuracy: 0.809.. Time elapsed: 2185s\n",
      "Epoch 4/5.. Train loss: 1.194.. Test loss: 0.638.. Test accuracy: 0.830.. Time elapsed: 2251s\n",
      "Epoch 4/5.. Train loss: 1.129.. Test loss: 0.717.. Test accuracy: 0.803.. Time elapsed: 2318s\n",
      "Epoch 4/5.. Train loss: 1.027.. Test loss: 0.641.. Test accuracy: 0.831.. Time elapsed: 2383s\n",
      "Epoch 4/5.. Train loss: 0.975.. Test loss: 0.634.. Test accuracy: 0.828.. Time elapsed: 2450s\n",
      "Epoch 4/5.. Train loss: 1.041.. Test loss: 0.617.. Test accuracy: 0.825.. Time elapsed: 2520s\n",
      "Epoch 4/5.. Train loss: 0.904.. Test loss: 0.553.. Test accuracy: 0.850.. Time elapsed: 2588s\n",
      "Epoch 4/5.. Train loss: 0.834.. Test loss: 0.565.. Test accuracy: 0.847.. Time elapsed: 2657s\n",
      "Epoch 4/5.. Train loss: 0.982.. Test loss: 0.562.. Test accuracy: 0.846.. Time elapsed: 2725s\n",
      "Epoch 5/5.. Train loss: 1.018.. Test loss: 0.545.. Test accuracy: 0.862.. Time elapsed: 2792s\n",
      "Epoch 5/5.. Train loss: 0.911.. Test loss: 0.549.. Test accuracy: 0.863.. Time elapsed: 2863s\n",
      "Epoch 5/5.. Train loss: 0.991.. Test loss: 0.570.. Test accuracy: 0.838.. Time elapsed: 2932s\n",
      "Epoch 5/5.. Train loss: 0.957.. Test loss: 0.548.. Test accuracy: 0.850.. Time elapsed: 3000s\n",
      "Epoch 5/5.. Train loss: 0.880.. Test loss: 0.517.. Test accuracy: 0.864.. Time elapsed: 3067s\n",
      "Epoch 5/5.. Train loss: 0.957.. Test loss: 0.525.. Test accuracy: 0.847.. Time elapsed: 3135s\n",
      "Epoch 5/5.. Train loss: 0.905.. Test loss: 0.536.. Test accuracy: 0.845.. Time elapsed: 3204s\n",
      "Epoch 5/5.. Train loss: 0.875.. Test loss: 0.520.. Test accuracy: 0.854.. Time elapsed: 3274s\n",
      "Epoch 5/5.. Train loss: 0.896.. Test loss: 0.471.. Test accuracy: 0.863.. Time elapsed: 3342s\n",
      "Epoch 5/5.. Train loss: 0.927.. Test loss: 0.497.. Test accuracy: 0.860.. Time elapsed: 3411s\n",
      "End training for device cpu, duration=3424s\n",
      "Training for device cpu finished\n"
     ]
    }
   ],
   "source": [
    "# DONE 3: Train the network for each device\n",
    "\n",
    "# Add cpu to devices when cuda is not supported or cuda-only is configured when available \n",
    "devices = ['cpu'] if not torch.cuda.is_available() or not CUDA_ONLY else []\n",
    "# Add all available cuda devices\n",
    "devices += [torch.cuda.get_device_name(i) for i in range(torch.cuda.device_count())] if torch.cuda.is_available() else []  \n",
    "\n",
    "# Train on all relevant devices\n",
    "for device in ['cpu', 'cuda:0'] if torch.cuda.is_available() else ['cpu']:\n",
    "    print(f\"Training for device {device} starts\")\n",
    "    \n",
    "    # Set loss function for the model to negative log likelihood loss\n",
    "    criterion = nn.NLLLoss()\n",
    "    # Set the optimizer for the model\n",
    "    optimizer = optim.Adam(model.classifier.parameters(), lr=LEARNING_RATE)\n",
    "    \n",
    "    model.to(device)\n",
    "\n",
    "    train_network(model, criterion, optimizer, data_loaders['train'], data_loaders['test'], device)\n",
    "    print(f\"Training for device {device} finished\")\n"
   ]
  },
  {
   "cell_type": "markdown",
   "metadata": {},
   "source": [
    "## Testing your network\n",
    "\n",
    "It's good practice to test your trained network on test data, images the network has never seen either in training or validation. This will give you a good estimate for the model's performance on completely new images. Run the test images through the network and measure the accuracy, the same way you did validation. You should be able to reach around 70% accuracy on the test set if the model has been trained well."
   ]
  },
  {
   "cell_type": "code",
   "execution_count": 58,
   "metadata": {},
   "outputs": [],
   "source": [
    "# TODO: Do validation on the test set"
   ]
  },
  {
   "cell_type": "markdown",
   "metadata": {},
   "source": [
    "## Save the checkpoint\n",
    "\n",
    "Now that your network is trained, save the model so you can load it later for making predictions. You probably want to save other things such as the mapping of classes to indices which you get from one of the image datasets: `image_datasets['train'].class_to_idx`. You can attach this to the model as an attribute which makes inference easier later on.\n",
    "\n",
    "```model.class_to_idx = image_datasets['train'].class_to_idx```\n",
    "\n",
    "Remember that you'll want to completely rebuild the model later so you can use it for inference. Make sure to include any information you need in the checkpoint. If you want to load the model and keep training, you'll want to save the number of epochs as well as the optimizer state, `optimizer.state_dict`. You'll likely want to use this trained model in the next part of the project, so best to save it now."
   ]
  },
  {
   "cell_type": "code",
   "execution_count": 58,
   "metadata": {},
   "outputs": [],
   "source": [
    "# TODO: Save the checkpoint\n"
   ]
  },
  {
   "cell_type": "markdown",
   "metadata": {},
   "source": [
    "## Loading the checkpoint\n",
    "\n",
    "At this point it's good to write a function that can load a checkpoint and rebuild the model. That way you can come back to this project and keep working on it without having to retrain the network."
   ]
  },
  {
   "cell_type": "code",
   "execution_count": null,
   "metadata": {},
   "outputs": [],
   "source": [
    "# TODO: Write a function that loads a checkpoint and rebuilds the model"
   ]
  },
  {
   "cell_type": "markdown",
   "metadata": {},
   "source": [
    "# Inference for classification\n",
    "\n",
    "Now you'll write a function to use a trained network for inference. That is, you'll pass an image into the network and predict the class of the flower in the image. Write a function called `predict` that takes an image and a model, then returns the top $K$ most likely classes along with the probabilities. It should look like \n",
    "\n",
    "```python\n",
    "probs, classes = predict(image_path, model)\n",
    "print(probs)\n",
    "print(classes)\n",
    "> [ 0.01558163  0.01541934  0.01452626  0.01443549  0.01407339]\n",
    "> ['70', '3', '45', '62', '55']\n",
    "```\n",
    "\n",
    "First you'll need to handle processing the input image such that it can be used in your network. \n",
    "\n",
    "## Image Preprocessing\n",
    "\n",
    "You'll want to use `PIL` to load the image ([documentation](https://pillow.readthedocs.io/en/latest/reference/Image.html)). It's best to write a function that preprocesses the image so it can be used as input for the model. This function should process the images in the same manner used for training. \n",
    "\n",
    "First, resize the images where the shortest side is 256 pixels, keeping the aspect ratio. This can be done with the [`thumbnail`](http://pillow.readthedocs.io/en/3.1.x/reference/Image.html#PIL.Image.Image.thumbnail) or [`resize`](http://pillow.readthedocs.io/en/3.1.x/reference/Image.html#PIL.Image.Image.thumbnail) methods. Then you'll need to crop out the center 224x224 portion of the image.\n",
    "\n",
    "Color channels of images are typically encoded as integers 0-255, but the model expected floats 0-1. You'll need to convert the values. It's easiest with a Numpy array, which you can get from a PIL image like so `np_image = np.array(pil_image)`.\n",
    "\n",
    "As before, the network expects the images to be normalized in a specific way. For the means, it's `[0.485, 0.456, 0.406]` and for the standard deviations `[0.229, 0.224, 0.225]`. You'll want to subtract the means from each color channel, then divide by the standard deviation. \n",
    "\n",
    "And finally, PyTorch expects the color channel to be the first dimension but it's the third dimension in the PIL image and Numpy array. You can reorder dimensions using [`ndarray.transpose`](https://docs.scipy.org/doc/numpy-1.13.0/reference/generated/numpy.ndarray.transpose.html). The color channel needs to be first and retain the order of the other two dimensions."
   ]
  },
  {
   "cell_type": "code",
   "execution_count": null,
   "metadata": {},
   "outputs": [],
   "source": [
    "def process_image(image):\n",
    "    ''' Scales, crops, and normalizes a PIL image for a PyTorch model,\n",
    "        returns an Numpy array\n",
    "    '''\n",
    "    \n",
    "    # TODO: Process a PIL image for use in a PyTorch model"
   ]
  },
  {
   "cell_type": "markdown",
   "metadata": {},
   "source": [
    "To check your work, the function below converts a PyTorch tensor and displays it in the notebook. If your `process_image` function works, running the output through this function should return the original image (except for the cropped out portions)."
   ]
  },
  {
   "cell_type": "code",
   "execution_count": null,
   "metadata": {},
   "outputs": [],
   "source": [
    "def imshow(image, ax=None, title=None):\n",
    "    \"\"\"Imshow for Tensor.\"\"\"\n",
    "    if ax is None:\n",
    "        fig, ax = plt.subplots()\n",
    "    \n",
    "    # PyTorch tensors assume the color channel is the first dimension\n",
    "    # but matplotlib assumes is the third dimension\n",
    "    image = image.numpy().transpose((1, 2, 0))\n",
    "    \n",
    "    # Undo preprocessing\n",
    "    mean = np.array([0.485, 0.456, 0.406])\n",
    "    std = np.array([0.229, 0.224, 0.225])\n",
    "    image = std * image + mean\n",
    "    \n",
    "    # Image needs to be clipped between 0 and 1 or it looks like noise when displayed\n",
    "    image = np.clip(image, 0, 1)\n",
    "    \n",
    "    ax.imshow(image)\n",
    "    \n",
    "    return ax"
   ]
  },
  {
   "cell_type": "markdown",
   "metadata": {},
   "source": [
    "## Class Prediction\n",
    "\n",
    "Once you can get images in the correct format, it's time to write a function for making predictions with your model. A common practice is to predict the top 5 or so (usually called top-$K$) most probable classes. You'll want to calculate the class probabilities then find the $K$ largest values.\n",
    "\n",
    "To get the top $K$ largest values in a tensor use [`x.topk(k)`](http://pytorch.org/docs/master/torch.html#torch.topk). This method returns both the highest `k` probabilities and the indices of those probabilities corresponding to the classes. You need to convert from these indices to the actual class labels using `class_to_idx` which hopefully you added to the model or from an `ImageFolder` you used to load the data ([see here](#Save-the-checkpoint)). Make sure to invert the dictionary so you get a mapping from index to class as well.\n",
    "\n",
    "Again, this method should take a path to an image and a model checkpoint, then return the probabilities and classes.\n",
    "\n",
    "```python\n",
    "probs, classes = predict(image_path, model)\n",
    "print(probs)\n",
    "print(classes)\n",
    "> [ 0.01558163  0.01541934  0.01452626  0.01443549  0.01407339]\n",
    "> ['70', '3', '45', '62', '55']\n",
    "```"
   ]
  },
  {
   "cell_type": "code",
   "execution_count": null,
   "metadata": {},
   "outputs": [],
   "source": [
    "def predict(image_path, model, topk=5):\n",
    "    ''' Predict the class (or classes) of an image using a trained deep learning model.\n",
    "    '''\n",
    "    \n",
    "    # TODO: Implement the code to predict the class from an image file"
   ]
  },
  {
   "cell_type": "markdown",
   "metadata": {},
   "source": [
    "## Sanity Checking\n",
    "\n",
    "Now that you can use a trained model for predictions, check to make sure it makes sense. Even if the testing accuracy is high, it's always good to check that there aren't obvious bugs. Use `matplotlib` to plot the probabilities for the top 5 classes as a bar graph, along with the input image. It should look like this:\n",
    "\n",
    "<img src='assets/inference_example.png' width=300px>\n",
    "\n",
    "You can convert from the class integer encoding to actual flower names with the `cat_to_name.json` file (should have been loaded earlier in the notebook). To show a PyTorch tensor as an image, use the `imshow` function defined above."
   ]
  },
  {
   "cell_type": "code",
   "execution_count": null,
   "metadata": {},
   "outputs": [],
   "source": [
    "# TODO: Display an image along with the top 5 classes"
   ]
  }
 ],
 "metadata": {
  "kernelspec": {
   "display_name": "aiprog",
   "language": "python",
   "name": "aiprog"
  },
  "language_info": {
   "codemirror_mode": {
    "name": "ipython",
    "version": 3
   },
   "file_extension": ".py",
   "mimetype": "text/x-python",
   "name": "python",
   "nbconvert_exporter": "python",
   "pygments_lexer": "ipython3",
   "version": "3.11.7"
  }
 },
 "nbformat": 4,
 "nbformat_minor": 4
}
